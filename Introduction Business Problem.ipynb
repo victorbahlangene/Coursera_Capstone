{
 "cells": [
  {
   "cell_type": "markdown",
   "metadata": {},
   "source": [
    "# Introduction: Business Problem"
   ]
  },
  {
   "cell_type": "markdown",
   "metadata": {},
   "source": [
    "The Goal of this project is to find which **Borough** and **Neighbourhood** in **New York City United States Of America** (since it contributes the most to the **Global Box office** numbers) is best to open up a new theatre."
   ]
  },
  {
   "cell_type": "markdown",
   "metadata": {},
   "source": [
    "In early **2020** there was a **worldwide pandemic** stopped people from going to the theatre. Many entertainment companies rely on the **Hollywood box office** as a major source of **income**. Because the movie theatres were closed for over a year many of them were forced to shut down. Beginning of **spring 2021** vaccines have made it possible for movie theatres to open, and some at full capacity. There is however an opportunity for media companies to open new theatres to replace the ones that went out of business."
   ]
  },
  {
   "cell_type": "markdown",
   "metadata": {},
   "source": [
    "Prior to the pandemic, there was a **gradual drop** in the number of people going to the movie theatre, so the **new theatre** cannot necessary be in the location of the closed one, hence the need to find a **new location.** "
   ]
  },
  {
   "cell_type": "markdown",
   "metadata": {},
   "source": [
    "We will use **data science tools** to fetch the raw data, visualize it then generate a few most promising areas. **Stakeholders** can make the final decision base on the analysis."
   ]
  }
 ],
 "metadata": {
  "kernelspec": {
   "display_name": "Python 3",
   "language": "python",
   "name": "python3"
  },
  "language_info": {
   "codemirror_mode": {
    "name": "ipython",
    "version": 3
   },
   "file_extension": ".py",
   "mimetype": "text/x-python",
   "name": "python",
   "nbconvert_exporter": "python",
   "pygments_lexer": "ipython3",
   "version": "3.7.1"
  }
 },
 "nbformat": 4,
 "nbformat_minor": 2
}
